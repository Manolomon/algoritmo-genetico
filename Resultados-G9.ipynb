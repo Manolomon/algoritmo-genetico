{
 "cells": [
  {
   "cell_type": "code",
   "execution_count": 1,
   "metadata": {
    "slideshow": {
     "slide_type": "skip"
    }
   },
   "outputs": [],
   "source": [
    "import pandas as pd\n",
    "import numpy as np\n",
    "import matplotlib.pyplot as plt\n",
    "import matplotlib.patches as mpatches\n",
    "\n",
    "#output_notebook()\n",
    "\n",
    "resultados = list()\n",
    "ejecuciones = list()\n",
    "\n",
    "for i in range(30):\n",
    "    resultados.append(pd.read_csv('./Ejecuciones/' + str(i + 1) + 'output.csv'))\n",
    "    resultados[i]['ejecucion'] = (i + 1)\n",
    "    ejecuciones.append(resultados[i].tail(200)[['ejecucion', 'aptitud']])"
   ]
  },
  {
   "cell_type": "markdown",
   "metadata": {
    "slideshow": {
     "slide_type": "slide"
    }
   },
   "source": [
    "# Evaluación Algoritmo Genético G9\n",
    "\n",
    "**Minimizar:**\n",
    "$$f(\\vec{x})=(x_{1} − 10)^2 + 5(x_{2} − 12)^{2} + x_{3}^{4} + 3(x_{4} − 11)^2 +\n",
    "10x_{5}^{6} + 7x_{6}^2 + x_{7}^{4} − 4x_{6}x_{7} − 10x_{6} − 8x_{7}$$\n",
    "\n",
    " Sujeta a:\n",
    "\n",
    " - $g1(\\vec{x}) : −127 + 2x_{1}^{2} + 3x_{2}^{4} + x_{3} + 4x_{4}^{2} + 5x_{5} ≤ 0$\n",
    "\n",
    " - $g2(\\vec{x}) : −282 + 7x_{1} + 3x_{2} + 10x_{3}^{2} + x_{4} − x_{5} ≤ 0$\n",
    "\n",
    " - $g3(\\vec{x}) : −196 + 23x_{1} + x_{2}^{2} + 6x_{6}^{2} − 8x_{7} ≤ 0$\n",
    "\n",
    " - $g4(\\vec{x}) : 4x_{1}^{2} + x_{2}^{2} − 3x_{1}x_{2} + 2x_{3}^2 + 5x_{6} − 11x_{7} ≤ 0$\n",
    "\n",
    " Donde $−10 ≤ x_{i} ≤ 10(i = 1, ..., 7)$.\n",
    "\n",
    " ## Características del Algoritmo\n",
    "\n",
    " - 30 ejecuciones independientes.\n",
    "- Tamaño de población = 200.\n",
    "- Número de evaluaciones máximas: 220,000.\n",
    "- **Reportar:** Mejor, mediana, peor, desviación estándar, de los mejores y gráfica de convergencia del mejor, peor y mediana.\n",
    "\n",
    "### Ejecución\n",
    "\n",
    "```python\n",
    "import os\n",
    "for i in range(30):\n",
    "    os.system(\"python algoritmo_g9.py \" + str((i + 1)))\n",
    "\n",
    "for i in range(30):\n",
    "    os.system(\"mv \" + str((i + 1)) + \"output.csv ./Ejecuciones\")\n",
    "    \n",
    "```"
   ]
  },
  {
   "cell_type": "markdown",
   "metadata": {
    "slideshow": {
     "slide_type": "slide"
    }
   },
   "source": [
    "## Tabla Descriptiva de la Solución\n",
    "\n",
    "| Atributo | Solución |\n",
    "| - | - |\n",
    "| Representación | Lista de números reales |\n",
    "| Recombinación | Primeros 4 del padre o madre. Siguientes 4 mitad padre y mitad madre |\n",
    "| Probabilidad de recombinación | 1 |\n",
    "| Mutación | Generación aleatoria de número |\n",
    "| Probabilidad de mutación | 1 |\n",
    "| Selección de padres | Mejores 20 por Torneo |\n",
    "| Reemplazo | Eliminar peores 20 |\n",
    "| Tamaño de población | 200 |\n",
    "| Número de descendientes | 20 |\n",
    "| Inicialización | Aleatoria |\n",
    "| Condición de paro | Solución o 220,000 evaluaciones |"
   ]
  },
  {
   "cell_type": "code",
   "execution_count": 2,
   "metadata": {
    "slideshow": {
     "slide_type": "skip"
    }
   },
   "outputs": [],
   "source": [
    "df = pd.DataFrame\n",
    "df = pd.concat(ejecuciones, ignore_index=True)\n",
    "pd.options.display.float_format = \"{:.2f}\".format\n",
    "TOOLTIPS = [\n",
    "    (\"Generación\", \"$index\"),\n",
    "    (\"Aptitud del Mejor\", \"($y)\"),\n",
    "]"
   ]
  },
  {
   "cell_type": "markdown",
   "metadata": {
    "slideshow": {
     "slide_type": "slide"
    }
   },
   "source": [
    "## Tabla Comparativa de las 30 Ejecuciones"
   ]
  },
  {
   "cell_type": "code",
   "execution_count": 3,
   "metadata": {
    "slideshow": {
     "slide_type": "slide"
    }
   },
   "outputs": [
    {
     "data": {
      "text/html": [
       "<div>\n",
       "<style scoped>\n",
       "    .dataframe tbody tr th:only-of-type {\n",
       "        vertical-align: middle;\n",
       "    }\n",
       "\n",
       "    .dataframe tbody tr th {\n",
       "        vertical-align: top;\n",
       "    }\n",
       "\n",
       "    .dataframe thead th {\n",
       "        text-align: right;\n",
       "    }\n",
       "</style>\n",
       "<table border=\"1\" class=\"dataframe\">\n",
       "  <thead>\n",
       "    <tr style=\"text-align: right;\">\n",
       "      <th></th>\n",
       "      <th>Mejor</th>\n",
       "      <th>Promedio</th>\n",
       "      <th>Mediana</th>\n",
       "      <th>Desviación Estándar</th>\n",
       "      <th>Peor</th>\n",
       "    </tr>\n",
       "    <tr>\n",
       "      <th>Número de Ejecución</th>\n",
       "      <th></th>\n",
       "      <th></th>\n",
       "      <th></th>\n",
       "      <th></th>\n",
       "      <th></th>\n",
       "    </tr>\n",
       "  </thead>\n",
       "  <tbody>\n",
       "    <tr>\n",
       "      <th>1</th>\n",
       "      <td>65469.30</td>\n",
       "      <td>895011812.72</td>\n",
       "      <td>1000000000.00</td>\n",
       "      <td>307288116.71</td>\n",
       "      <td>1000000000.00</td>\n",
       "    </tr>\n",
       "    <tr>\n",
       "      <th>2</th>\n",
       "      <td>1874.79</td>\n",
       "      <td>645193632.52</td>\n",
       "      <td>1000000000.00</td>\n",
       "      <td>479452994.06</td>\n",
       "      <td>1000000000.00</td>\n",
       "    </tr>\n",
       "    <tr>\n",
       "      <th>3</th>\n",
       "      <td>1220.30</td>\n",
       "      <td>335521562.84</td>\n",
       "      <td>1332008.98</td>\n",
       "      <td>472804846.67</td>\n",
       "      <td>1000000000.00</td>\n",
       "    </tr>\n",
       "    <tr>\n",
       "      <th>4</th>\n",
       "      <td>3125.96</td>\n",
       "      <td>830082534.67</td>\n",
       "      <td>1000000000.00</td>\n",
       "      <td>376392682.51</td>\n",
       "      <td>1000000000.00</td>\n",
       "    </tr>\n",
       "    <tr>\n",
       "      <th>5</th>\n",
       "      <td>1864.57</td>\n",
       "      <td>995000009.32</td>\n",
       "      <td>1000000000.00</td>\n",
       "      <td>70710546.27</td>\n",
       "      <td>1000000000.00</td>\n",
       "    </tr>\n",
       "    <tr>\n",
       "      <th>6</th>\n",
       "      <td>1863.33</td>\n",
       "      <td>496100353.51</td>\n",
       "      <td>9051101.36</td>\n",
       "      <td>500142598.74</td>\n",
       "      <td>1000000000.00</td>\n",
       "    </tr>\n",
       "    <tr>\n",
       "      <th>7</th>\n",
       "      <td>58427.47</td>\n",
       "      <td>945025987.74</td>\n",
       "      <td>1000000000.00</td>\n",
       "      <td>228444574.68</td>\n",
       "      <td>1000000000.00</td>\n",
       "    </tr>\n",
       "    <tr>\n",
       "      <th>8</th>\n",
       "      <td>7022.01</td>\n",
       "      <td>990001858.81</td>\n",
       "      <td>1000000000.00</td>\n",
       "      <td>99729887.57</td>\n",
       "      <td>1000000000.00</td>\n",
       "    </tr>\n",
       "    <tr>\n",
       "      <th>9</th>\n",
       "      <td>146087.38</td>\n",
       "      <td>850200355.49</td>\n",
       "      <td>1000000000.00</td>\n",
       "      <td>357489623.24</td>\n",
       "      <td>1000000000.00</td>\n",
       "    </tr>\n",
       "    <tr>\n",
       "      <th>10</th>\n",
       "      <td>4633.03</td>\n",
       "      <td>950000231.65</td>\n",
       "      <td>1000000000.00</td>\n",
       "      <td>218490849.05</td>\n",
       "      <td>1000000000.00</td>\n",
       "    </tr>\n",
       "    <tr>\n",
       "      <th>11</th>\n",
       "      <td>198709.76</td>\n",
       "      <td>945013259.22</td>\n",
       "      <td>1000000000.00</td>\n",
       "      <td>228497260.57</td>\n",
       "      <td>1000000000.00</td>\n",
       "    </tr>\n",
       "    <tr>\n",
       "      <th>12</th>\n",
       "      <td>36210.84</td>\n",
       "      <td>945002359.02</td>\n",
       "      <td>1000000000.00</td>\n",
       "      <td>228542556.36</td>\n",
       "      <td>1000000000.00</td>\n",
       "    </tr>\n",
       "    <tr>\n",
       "      <th>13</th>\n",
       "      <td>3003.38</td>\n",
       "      <td>990023006.43</td>\n",
       "      <td>1000000000.00</td>\n",
       "      <td>99519208.32</td>\n",
       "      <td>1000000000.00</td>\n",
       "    </tr>\n",
       "    <tr>\n",
       "      <th>14</th>\n",
       "      <td>62441.05</td>\n",
       "      <td>800156468.96</td>\n",
       "      <td>1000000000.00</td>\n",
       "      <td>400690161.34</td>\n",
       "      <td>1000000000.00</td>\n",
       "    </tr>\n",
       "    <tr>\n",
       "      <th>15</th>\n",
       "      <td>5133.99</td>\n",
       "      <td>595098239.79</td>\n",
       "      <td>1000000000.00</td>\n",
       "      <td>492004572.41</td>\n",
       "      <td>1000000000.00</td>\n",
       "    </tr>\n",
       "    <tr>\n",
       "      <th>16</th>\n",
       "      <td>11876.78</td>\n",
       "      <td>600730120.00</td>\n",
       "      <td>1000000000.00</td>\n",
       "      <td>490233582.43</td>\n",
       "      <td>1000000000.00</td>\n",
       "    </tr>\n",
       "    <tr>\n",
       "      <th>17</th>\n",
       "      <td>2096742.63</td>\n",
       "      <td>995010483.71</td>\n",
       "      <td>1000000000.00</td>\n",
       "      <td>70562416.03</td>\n",
       "      <td>1000000000.00</td>\n",
       "    </tr>\n",
       "    <tr>\n",
       "      <th>18</th>\n",
       "      <td>795171.57</td>\n",
       "      <td>995003975.86</td>\n",
       "      <td>1000000000.00</td>\n",
       "      <td>70654451.00</td>\n",
       "      <td>1000000000.00</td>\n",
       "    </tr>\n",
       "    <tr>\n",
       "      <th>19</th>\n",
       "      <td>2756.24</td>\n",
       "      <td>495702967.92</td>\n",
       "      <td>5891904.91</td>\n",
       "      <td>500533536.98</td>\n",
       "      <td>1000000000.00</td>\n",
       "    </tr>\n",
       "    <tr>\n",
       "      <th>20</th>\n",
       "      <td>1282180.80</td>\n",
       "      <td>950064109.04</td>\n",
       "      <td>1000000000.00</td>\n",
       "      <td>218211715.26</td>\n",
       "      <td>1000000000.00</td>\n",
       "    </tr>\n",
       "    <tr>\n",
       "      <th>21</th>\n",
       "      <td>2825.28</td>\n",
       "      <td>545951556.25</td>\n",
       "      <td>1000000000.00</td>\n",
       "      <td>498181011.28</td>\n",
       "      <td>1000000000.00</td>\n",
       "    </tr>\n",
       "    <tr>\n",
       "      <th>22</th>\n",
       "      <td>1000000000.00</td>\n",
       "      <td>1000000000.00</td>\n",
       "      <td>1000000000.00</td>\n",
       "      <td>0.00</td>\n",
       "      <td>1000000000.00</td>\n",
       "    </tr>\n",
       "    <tr>\n",
       "      <th>23</th>\n",
       "      <td>2260.30</td>\n",
       "      <td>530880686.77</td>\n",
       "      <td>1000000000.00</td>\n",
       "      <td>499417884.85</td>\n",
       "      <td>1000000000.00</td>\n",
       "    </tr>\n",
       "    <tr>\n",
       "      <th>24</th>\n",
       "      <td>2616.51</td>\n",
       "      <td>935001866.50</td>\n",
       "      <td>1000000000.00</td>\n",
       "      <td>247137400.10</td>\n",
       "      <td>1000000000.00</td>\n",
       "    </tr>\n",
       "    <tr>\n",
       "      <th>25</th>\n",
       "      <td>1379.63</td>\n",
       "      <td>595351640.02</td>\n",
       "      <td>1000000000.00</td>\n",
       "      <td>491698362.91</td>\n",
       "      <td>1000000000.00</td>\n",
       "    </tr>\n",
       "    <tr>\n",
       "      <th>26</th>\n",
       "      <td>1060.77</td>\n",
       "      <td>290264832.72</td>\n",
       "      <td>474184.07</td>\n",
       "      <td>454731299.37</td>\n",
       "      <td>1000000000.00</td>\n",
       "    </tr>\n",
       "    <tr>\n",
       "      <th>27</th>\n",
       "      <td>10024.01</td>\n",
       "      <td>885054594.31</td>\n",
       "      <td>1000000000.00</td>\n",
       "      <td>319670704.89</td>\n",
       "      <td>1000000000.00</td>\n",
       "    </tr>\n",
       "    <tr>\n",
       "      <th>28</th>\n",
       "      <td>1159.62</td>\n",
       "      <td>745673118.85</td>\n",
       "      <td>1000000000.00</td>\n",
       "      <td>435804095.04</td>\n",
       "      <td>1000000000.00</td>\n",
       "    </tr>\n",
       "    <tr>\n",
       "      <th>29</th>\n",
       "      <td>2209.94</td>\n",
       "      <td>940000449.47</td>\n",
       "      <td>1000000000.00</td>\n",
       "      <td>238081011.10</td>\n",
       "      <td>1000000000.00</td>\n",
       "    </tr>\n",
       "    <tr>\n",
       "      <th>30</th>\n",
       "      <td>1413195.89</td>\n",
       "      <td>995007065.98</td>\n",
       "      <td>1000000000.00</td>\n",
       "      <td>70610750.08</td>\n",
       "      <td>1000000000.00</td>\n",
       "    </tr>\n",
       "  </tbody>\n",
       "</table>\n",
       "</div>"
      ],
      "text/plain": [
       "                            Mejor      Promedio       Mediana  \\\n",
       "Número de Ejecución                                             \n",
       "1                        65469.30  895011812.72 1000000000.00   \n",
       "2                         1874.79  645193632.52 1000000000.00   \n",
       "3                         1220.30  335521562.84    1332008.98   \n",
       "4                         3125.96  830082534.67 1000000000.00   \n",
       "5                         1864.57  995000009.32 1000000000.00   \n",
       "6                         1863.33  496100353.51    9051101.36   \n",
       "7                        58427.47  945025987.74 1000000000.00   \n",
       "8                         7022.01  990001858.81 1000000000.00   \n",
       "9                       146087.38  850200355.49 1000000000.00   \n",
       "10                        4633.03  950000231.65 1000000000.00   \n",
       "11                      198709.76  945013259.22 1000000000.00   \n",
       "12                       36210.84  945002359.02 1000000000.00   \n",
       "13                        3003.38  990023006.43 1000000000.00   \n",
       "14                       62441.05  800156468.96 1000000000.00   \n",
       "15                        5133.99  595098239.79 1000000000.00   \n",
       "16                       11876.78  600730120.00 1000000000.00   \n",
       "17                     2096742.63  995010483.71 1000000000.00   \n",
       "18                      795171.57  995003975.86 1000000000.00   \n",
       "19                        2756.24  495702967.92    5891904.91   \n",
       "20                     1282180.80  950064109.04 1000000000.00   \n",
       "21                        2825.28  545951556.25 1000000000.00   \n",
       "22                  1000000000.00 1000000000.00 1000000000.00   \n",
       "23                        2260.30  530880686.77 1000000000.00   \n",
       "24                        2616.51  935001866.50 1000000000.00   \n",
       "25                        1379.63  595351640.02 1000000000.00   \n",
       "26                        1060.77  290264832.72     474184.07   \n",
       "27                       10024.01  885054594.31 1000000000.00   \n",
       "28                        1159.62  745673118.85 1000000000.00   \n",
       "29                        2209.94  940000449.47 1000000000.00   \n",
       "30                     1413195.89  995007065.98 1000000000.00   \n",
       "\n",
       "                     Desviación Estándar          Peor  \n",
       "Número de Ejecución                                     \n",
       "1                           307288116.71 1000000000.00  \n",
       "2                           479452994.06 1000000000.00  \n",
       "3                           472804846.67 1000000000.00  \n",
       "4                           376392682.51 1000000000.00  \n",
       "5                            70710546.27 1000000000.00  \n",
       "6                           500142598.74 1000000000.00  \n",
       "7                           228444574.68 1000000000.00  \n",
       "8                            99729887.57 1000000000.00  \n",
       "9                           357489623.24 1000000000.00  \n",
       "10                          218490849.05 1000000000.00  \n",
       "11                          228497260.57 1000000000.00  \n",
       "12                          228542556.36 1000000000.00  \n",
       "13                           99519208.32 1000000000.00  \n",
       "14                          400690161.34 1000000000.00  \n",
       "15                          492004572.41 1000000000.00  \n",
       "16                          490233582.43 1000000000.00  \n",
       "17                           70562416.03 1000000000.00  \n",
       "18                           70654451.00 1000000000.00  \n",
       "19                          500533536.98 1000000000.00  \n",
       "20                          218211715.26 1000000000.00  \n",
       "21                          498181011.28 1000000000.00  \n",
       "22                                  0.00 1000000000.00  \n",
       "23                          499417884.85 1000000000.00  \n",
       "24                          247137400.10 1000000000.00  \n",
       "25                          491698362.91 1000000000.00  \n",
       "26                          454731299.37 1000000000.00  \n",
       "27                          319670704.89 1000000000.00  \n",
       "28                          435804095.04 1000000000.00  \n",
       "29                          238081011.10 1000000000.00  \n",
       "30                           70610750.08 1000000000.00  "
      ]
     },
     "execution_count": 3,
     "metadata": {},
     "output_type": "execute_result"
    }
   ],
   "source": [
    "promedio = []\n",
    "mejor = []\n",
    "peor = []\n",
    "desviacion = []\n",
    "mediana = []\n",
    "\n",
    "for i in range(30):\n",
    "    mejor.append(df.loc[df['ejecucion'] == i + 1].min().values[1])\n",
    "    promedio.append(df.loc[df['ejecucion'] == i + 1].mean().values[1])\n",
    "    desviacion.append(df.loc[df['ejecucion'] == i + 1].std().values[1])\n",
    "    mediana.append(df.loc[df['ejecucion'] == i + 1].median().values[1])\n",
    "    peor.append(df.loc[df['ejecucion'] == i + 1].max().values[1])\n",
    "\n",
    "data = {'Número de Ejecución': list(range(1, 31)),\\\n",
    "    'Mejor':mejor, \\\n",
    "    'Promedio':promedio, \\\n",
    "    'Mediana':mediana, \\\n",
    "    'Desviación Estándar':desviacion, \\\n",
    "    'Peor':peor}\n",
    "df = pd.DataFrame(data)\n",
    "\n",
    "df.set_index(['Número de Ejecución'], inplace=True)\n",
    "\n",
    "df"
   ]
  },
  {
   "cell_type": "markdown",
   "metadata": {
    "slideshow": {
     "slide_type": "slide"
    }
   },
   "source": [
    "## Descripción General de las Ejecuciones"
   ]
  },
  {
   "cell_type": "code",
   "execution_count": 4,
   "metadata": {
    "slideshow": {
     "slide_type": "slide"
    }
   },
   "outputs": [
    {
     "data": {
      "text/html": [
       "<div>\n",
       "<style scoped>\n",
       "    .dataframe tbody tr th:only-of-type {\n",
       "        vertical-align: middle;\n",
       "    }\n",
       "\n",
       "    .dataframe tbody tr th {\n",
       "        vertical-align: top;\n",
       "    }\n",
       "\n",
       "    .dataframe thead th {\n",
       "        text-align: right;\n",
       "    }\n",
       "</style>\n",
       "<table border=\"1\" class=\"dataframe\">\n",
       "  <thead>\n",
       "    <tr style=\"text-align: right;\">\n",
       "      <th></th>\n",
       "      <th>Mejor</th>\n",
       "      <th>Promedio</th>\n",
       "      <th>Mediana</th>\n",
       "      <th>Desviación Estándar</th>\n",
       "      <th>Peor</th>\n",
       "    </tr>\n",
       "  </thead>\n",
       "  <tbody>\n",
       "    <tr>\n",
       "      <th>count</th>\n",
       "      <td>30.00</td>\n",
       "      <td>30.00</td>\n",
       "      <td>30.00</td>\n",
       "      <td>30.00</td>\n",
       "      <td>30.00</td>\n",
       "    </tr>\n",
       "    <tr>\n",
       "      <th>mean</th>\n",
       "      <td>33540751.57</td>\n",
       "      <td>790237638.00</td>\n",
       "      <td>867224973.31</td>\n",
       "      <td>305524289.99</td>\n",
       "      <td>1000000000.00</td>\n",
       "    </tr>\n",
       "    <tr>\n",
       "      <th>std</th>\n",
       "      <td>182535710.57</td>\n",
       "      <td>217751485.28</td>\n",
       "      <td>344300590.71</td>\n",
       "      <td>166961212.38</td>\n",
       "      <td>0.00</td>\n",
       "    </tr>\n",
       "    <tr>\n",
       "      <th>min</th>\n",
       "      <td>1060.77</td>\n",
       "      <td>290264832.72</td>\n",
       "      <td>474184.07</td>\n",
       "      <td>0.00</td>\n",
       "      <td>1000000000.00</td>\n",
       "    </tr>\n",
       "    <tr>\n",
       "      <th>25%</th>\n",
       "      <td>2222.53</td>\n",
       "      <td>596696260.02</td>\n",
       "      <td>1000000000.00</td>\n",
       "      <td>218281498.71</td>\n",
       "      <td>1000000000.00</td>\n",
       "    </tr>\n",
       "    <tr>\n",
       "      <th>50%</th>\n",
       "      <td>4883.51</td>\n",
       "      <td>890033203.51</td>\n",
       "      <td>1000000000.00</td>\n",
       "      <td>313479410.80</td>\n",
       "      <td>1000000000.00</td>\n",
       "    </tr>\n",
       "    <tr>\n",
       "      <th>75%</th>\n",
       "      <td>64712.24</td>\n",
       "      <td>950048139.69</td>\n",
       "      <td>1000000000.00</td>\n",
       "      <td>477790957.21</td>\n",
       "      <td>1000000000.00</td>\n",
       "    </tr>\n",
       "    <tr>\n",
       "      <th>max</th>\n",
       "      <td>1000000000.00</td>\n",
       "      <td>1000000000.00</td>\n",
       "      <td>1000000000.00</td>\n",
       "      <td>500533536.98</td>\n",
       "      <td>1000000000.00</td>\n",
       "    </tr>\n",
       "  </tbody>\n",
       "</table>\n",
       "</div>"
      ],
      "text/plain": [
       "              Mejor      Promedio       Mediana  Desviación Estándar  \\\n",
       "count         30.00         30.00         30.00                30.00   \n",
       "mean    33540751.57  790237638.00  867224973.31         305524289.99   \n",
       "std    182535710.57  217751485.28  344300590.71         166961212.38   \n",
       "min         1060.77  290264832.72     474184.07                 0.00   \n",
       "25%         2222.53  596696260.02 1000000000.00         218281498.71   \n",
       "50%         4883.51  890033203.51 1000000000.00         313479410.80   \n",
       "75%        64712.24  950048139.69 1000000000.00         477790957.21   \n",
       "max   1000000000.00 1000000000.00 1000000000.00         500533536.98   \n",
       "\n",
       "               Peor  \n",
       "count         30.00  \n",
       "mean  1000000000.00  \n",
       "std            0.00  \n",
       "min   1000000000.00  \n",
       "25%   1000000000.00  \n",
       "50%   1000000000.00  \n",
       "75%   1000000000.00  \n",
       "max   1000000000.00  "
      ]
     },
     "execution_count": 4,
     "metadata": {},
     "output_type": "execute_result"
    }
   ],
   "source": [
    "df.describe()"
   ]
  },
  {
   "cell_type": "markdown",
   "metadata": {
    "slideshow": {
     "slide_type": "slide"
    }
   },
   "source": [
    "## Mejor Ejecución"
   ]
  },
  {
   "cell_type": "code",
   "execution_count": 5,
   "metadata": {
    "slideshow": {
     "slide_type": "subslide"
    }
   },
   "outputs": [
    {
     "data": {
      "text/html": [
       "<div>\n",
       "<style scoped>\n",
       "    .dataframe tbody tr th:only-of-type {\n",
       "        vertical-align: middle;\n",
       "    }\n",
       "\n",
       "    .dataframe tbody tr th {\n",
       "        vertical-align: top;\n",
       "    }\n",
       "\n",
       "    .dataframe thead th {\n",
       "        text-align: right;\n",
       "    }\n",
       "</style>\n",
       "<table border=\"1\" class=\"dataframe\">\n",
       "  <thead>\n",
       "    <tr style=\"text-align: right;\">\n",
       "      <th></th>\n",
       "      <th>Mejor</th>\n",
       "      <th>Promedio</th>\n",
       "      <th>Mediana</th>\n",
       "      <th>Desviación Estándar</th>\n",
       "      <th>Peor</th>\n",
       "    </tr>\n",
       "    <tr>\n",
       "      <th>Número de Ejecución</th>\n",
       "      <th></th>\n",
       "      <th></th>\n",
       "      <th></th>\n",
       "      <th></th>\n",
       "      <th></th>\n",
       "    </tr>\n",
       "  </thead>\n",
       "  <tbody>\n",
       "    <tr>\n",
       "      <th>26</th>\n",
       "      <td>1060.77</td>\n",
       "      <td>290264832.72</td>\n",
       "      <td>474184.07</td>\n",
       "      <td>454731299.37</td>\n",
       "      <td>1000000000.00</td>\n",
       "    </tr>\n",
       "  </tbody>\n",
       "</table>\n",
       "</div>"
      ],
      "text/plain": [
       "                      Mejor     Promedio   Mediana  Desviación Estándar  \\\n",
       "Número de Ejecución                                                       \n",
       "26                  1060.77 290264832.72 474184.07         454731299.37   \n",
       "\n",
       "                             Peor  \n",
       "Número de Ejecución                \n",
       "26                  1000000000.00  "
      ]
     },
     "execution_count": 5,
     "metadata": {},
     "output_type": "execute_result"
    }
   ],
   "source": [
    "df_mejor = df.loc[df[\"Mejor\"] == df[\"Mejor\"].min()].head(1)\n",
    "df_mejor"
   ]
  },
  {
   "cell_type": "markdown",
   "metadata": {
    "slideshow": {
     "slide_type": "subslide"
    }
   },
   "source": [
    "### Ejecución 26"
   ]
  },
  {
   "cell_type": "code",
   "execution_count": 6,
   "metadata": {
    "slideshow": {
     "slide_type": "subslide"
    }
   },
   "outputs": [
    {
     "data": {
      "text/html": [
       "<div>\n",
       "<style scoped>\n",
       "    .dataframe tbody tr th:only-of-type {\n",
       "        vertical-align: middle;\n",
       "    }\n",
       "\n",
       "    .dataframe tbody tr th {\n",
       "        vertical-align: top;\n",
       "    }\n",
       "\n",
       "    .dataframe thead th {\n",
       "        text-align: right;\n",
       "    }\n",
       "</style>\n",
       "<table border=\"1\" class=\"dataframe\">\n",
       "  <thead>\n",
       "    <tr style=\"text-align: right;\">\n",
       "      <th></th>\n",
       "      <th>Generación</th>\n",
       "      <th>Mejor</th>\n",
       "      <th>Promedio</th>\n",
       "      <th>Mediana</th>\n",
       "      <th>Desviación Estándar</th>\n",
       "      <th>Peor</th>\n",
       "    </tr>\n",
       "  </thead>\n",
       "  <tbody>\n",
       "    <tr>\n",
       "      <th>0</th>\n",
       "      <td>1</td>\n",
       "      <td>5419.04</td>\n",
       "      <td>990000062.14</td>\n",
       "      <td>1000000000.00</td>\n",
       "      <td>99747807.44</td>\n",
       "      <td>1000000000.00</td>\n",
       "    </tr>\n",
       "    <tr>\n",
       "      <th>1</th>\n",
       "      <td>2</td>\n",
       "      <td>5419.04</td>\n",
       "      <td>990000062.14</td>\n",
       "      <td>1000000000.00</td>\n",
       "      <td>99747807.44</td>\n",
       "      <td>1000000000.00</td>\n",
       "    </tr>\n",
       "    <tr>\n",
       "      <th>2</th>\n",
       "      <td>3</td>\n",
       "      <td>5419.04</td>\n",
       "      <td>990000062.14</td>\n",
       "      <td>1000000000.00</td>\n",
       "      <td>99747807.44</td>\n",
       "      <td>1000000000.00</td>\n",
       "    </tr>\n",
       "    <tr>\n",
       "      <th>3</th>\n",
       "      <td>4</td>\n",
       "      <td>5419.04</td>\n",
       "      <td>990000062.14</td>\n",
       "      <td>1000000000.00</td>\n",
       "      <td>99747807.44</td>\n",
       "      <td>1000000000.00</td>\n",
       "    </tr>\n",
       "    <tr>\n",
       "      <th>4</th>\n",
       "      <td>5</td>\n",
       "      <td>5419.04</td>\n",
       "      <td>990000062.14</td>\n",
       "      <td>1000000000.00</td>\n",
       "      <td>99747807.44</td>\n",
       "      <td>1000000000.00</td>\n",
       "    </tr>\n",
       "  </tbody>\n",
       "</table>\n",
       "</div>"
      ],
      "text/plain": [
       "   Generación   Mejor     Promedio       Mediana  Desviación Estándar  \\\n",
       "0           1 5419.04 990000062.14 1000000000.00          99747807.44   \n",
       "1           2 5419.04 990000062.14 1000000000.00          99747807.44   \n",
       "2           3 5419.04 990000062.14 1000000000.00          99747807.44   \n",
       "3           4 5419.04 990000062.14 1000000000.00          99747807.44   \n",
       "4           5 5419.04 990000062.14 1000000000.00          99747807.44   \n",
       "\n",
       "           Peor  \n",
       "0 1000000000.00  \n",
       "1 1000000000.00  \n",
       "2 1000000000.00  \n",
       "3 1000000000.00  \n",
       "4 1000000000.00  "
      ]
     },
     "execution_count": 6,
     "metadata": {},
     "output_type": "execute_result"
    }
   ],
   "source": [
    "mejor_ejecucion = df_mejor.index.values[0]\n",
    "df2 = pd.read_csv('Ejecuciones/' + str(mejor_ejecucion) + 'output.csv')\n",
    "\n",
    "promedio = []\n",
    "mejor = []\n",
    "peor = []\n",
    "desviacion = []\n",
    "mediana = []\n",
    "gen = []\n",
    "\n",
    "\n",
    "for i in range(len(df2['generacion'].unique().tolist())):\n",
    "    mejor.append(df2.loc[df2['generacion'] == i + 1].min().values[1])\n",
    "    promedio.append(df2.loc[df2['generacion'] == i + 1].mean().values[1])\n",
    "    desviacion.append(df2.loc[df2['generacion'] == i + 1].std().values[1])\n",
    "    mediana.append(df2.loc[df2['generacion'] == i + 1].median().values[1])\n",
    "    peor.append(df2.loc[df2['generacion'] == i + 1].max().values[1])\n",
    "    gen.append(i+1)\n",
    "\n",
    "data = {'Generación': gen,\\\n",
    "    'Mejor':mejor, \\\n",
    "    'Promedio':promedio, \\\n",
    "    'Mediana':mediana, \\\n",
    "    'Desviación Estándar':desviacion, \\\n",
    "    'Peor':peor}\n",
    "df2 = pd.DataFrame(data)\n",
    "df2.head()"
   ]
  },
  {
   "cell_type": "markdown",
   "metadata": {
    "slideshow": {
     "slide_type": "subslide"
    }
   },
   "source": [
    "### Gráfica de Convergencia"
   ]
  },
  {
   "cell_type": "code",
   "execution_count": 7,
   "metadata": {
    "slideshow": {
     "slide_type": "subslide"
    }
   },
   "outputs": [
    {
     "data": {
      "text/plain": [
       "<matplotlib.axes._subplots.AxesSubplot at 0x7f5c78ab1b70>"
      ]
     },
     "execution_count": 7,
     "metadata": {},
     "output_type": "execute_result"
    },
    {
     "data": {
      "image/png": "[encoded data removed]",
      "text/plain": [
       "<Figure size 720x360 with 1 Axes>"
      ]
     },
     "metadata": {
      "needs_background": "light"
     },
     "output_type": "display_data"
    }
   ],
   "source": [
    "df2.plot(x='Generación', y=['Mejor'], figsize=(10,5), grid=True)"
   ]
  },
  {
   "cell_type": "markdown",
   "metadata": {
    "slideshow": {
     "slide_type": "slide"
    }
   },
   "source": [
    "## Peor Ejecución"
   ]
  },
  {
   "cell_type": "code",
   "execution_count": 8,
   "metadata": {
    "slideshow": {
     "slide_type": "subslide"
    }
   },
   "outputs": [
    {
     "data": {
      "text/html": [
       "<div>\n",
       "<style scoped>\n",
       "    .dataframe tbody tr th:only-of-type {\n",
       "        vertical-align: middle;\n",
       "    }\n",
       "\n",
       "    .dataframe tbody tr th {\n",
       "        vertical-align: top;\n",
       "    }\n",
       "\n",
       "    .dataframe thead th {\n",
       "        text-align: right;\n",
       "    }\n",
       "</style>\n",
       "<table border=\"1\" class=\"dataframe\">\n",
       "  <thead>\n",
       "    <tr style=\"text-align: right;\">\n",
       "      <th></th>\n",
       "      <th>Mejor</th>\n",
       "      <th>Promedio</th>\n",
       "      <th>Mediana</th>\n",
       "      <th>Desviación Estándar</th>\n",
       "      <th>Peor</th>\n",
       "    </tr>\n",
       "    <tr>\n",
       "      <th>Número de Ejecución</th>\n",
       "      <th></th>\n",
       "      <th></th>\n",
       "      <th></th>\n",
       "      <th></th>\n",
       "      <th></th>\n",
       "    </tr>\n",
       "  </thead>\n",
       "  <tbody>\n",
       "    <tr>\n",
       "      <th>22</th>\n",
       "      <td>1000000000.00</td>\n",
       "      <td>1000000000.00</td>\n",
       "      <td>1000000000.00</td>\n",
       "      <td>0.00</td>\n",
       "      <td>1000000000.00</td>\n",
       "    </tr>\n",
       "  </tbody>\n",
       "</table>\n",
       "</div>"
      ],
      "text/plain": [
       "                            Mejor      Promedio       Mediana  \\\n",
       "Número de Ejecución                                             \n",
       "22                  1000000000.00 1000000000.00 1000000000.00   \n",
       "\n",
       "                     Desviación Estándar          Peor  \n",
       "Número de Ejecución                                     \n",
       "22                                  0.00 1000000000.00  "
      ]
     },
     "execution_count": 8,
     "metadata": {},
     "output_type": "execute_result"
    }
   ],
   "source": [
    "df_peor = df.loc[df[\"Mejor\"] == df[\"Peor\"].max()].head(1)\n",
    "df_peor"
   ]
  },
  {
   "cell_type": "markdown",
   "metadata": {
    "slideshow": {
     "slide_type": "subslide"
    }
   },
   "source": [
    "### Ejecución 22"
   ]
  },
  {
   "cell_type": "code",
   "execution_count": 9,
   "metadata": {
    "slideshow": {
     "slide_type": "subslide"
    }
   },
   "outputs": [
    {
     "data": {
      "text/html": [
       "<div>\n",
       "<style scoped>\n",
       "    .dataframe tbody tr th:only-of-type {\n",
       "        vertical-align: middle;\n",
       "    }\n",
       "\n",
       "    .dataframe tbody tr th {\n",
       "        vertical-align: top;\n",
       "    }\n",
       "\n",
       "    .dataframe thead th {\n",
       "        text-align: right;\n",
       "    }\n",
       "</style>\n",
       "<table border=\"1\" class=\"dataframe\">\n",
       "  <thead>\n",
       "    <tr style=\"text-align: right;\">\n",
       "      <th></th>\n",
       "      <th>Generación</th>\n",
       "      <th>Mejor</th>\n",
       "      <th>Promedio</th>\n",
       "      <th>Mediana</th>\n",
       "      <th>Desviación Estándar</th>\n",
       "      <th>Peor</th>\n",
       "    </tr>\n",
       "  </thead>\n",
       "  <tbody>\n",
       "    <tr>\n",
       "      <th>0</th>\n",
       "      <td>1</td>\n",
       "      <td>nan</td>\n",
       "      <td>nan</td>\n",
       "      <td>nan</td>\n",
       "      <td>nan</td>\n",
       "      <td>nan</td>\n",
       "    </tr>\n",
       "    <tr>\n",
       "      <th>1</th>\n",
       "      <td>2</td>\n",
       "      <td>1000000000.00</td>\n",
       "      <td>1000000000.00</td>\n",
       "      <td>1000000000.00</td>\n",
       "      <td>0.00</td>\n",
       "      <td>1000000000.00</td>\n",
       "    </tr>\n",
       "    <tr>\n",
       "      <th>2</th>\n",
       "      <td>3</td>\n",
       "      <td>1000000000.00</td>\n",
       "      <td>1000000000.00</td>\n",
       "      <td>1000000000.00</td>\n",
       "      <td>0.00</td>\n",
       "      <td>1000000000.00</td>\n",
       "    </tr>\n",
       "    <tr>\n",
       "      <th>3</th>\n",
       "      <td>4</td>\n",
       "      <td>1000000000.00</td>\n",
       "      <td>1000000000.00</td>\n",
       "      <td>1000000000.00</td>\n",
       "      <td>0.00</td>\n",
       "      <td>1000000000.00</td>\n",
       "    </tr>\n",
       "    <tr>\n",
       "      <th>4</th>\n",
       "      <td>5</td>\n",
       "      <td>1000000000.00</td>\n",
       "      <td>1000000000.00</td>\n",
       "      <td>1000000000.00</td>\n",
       "      <td>0.00</td>\n",
       "      <td>1000000000.00</td>\n",
       "    </tr>\n",
       "  </tbody>\n",
       "</table>\n",
       "</div>"
      ],
      "text/plain": [
       "   Generación         Mejor      Promedio       Mediana  Desviación Estándar  \\\n",
       "0           1           nan           nan           nan                  nan   \n",
       "1           2 1000000000.00 1000000000.00 1000000000.00                 0.00   \n",
       "2           3 1000000000.00 1000000000.00 1000000000.00                 0.00   \n",
       "3           4 1000000000.00 1000000000.00 1000000000.00                 0.00   \n",
       "4           5 1000000000.00 1000000000.00 1000000000.00                 0.00   \n",
       "\n",
       "           Peor  \n",
       "0           nan  \n",
       "1 1000000000.00  \n",
       "2 1000000000.00  \n",
       "3 1000000000.00  \n",
       "4 1000000000.00  "
      ]
     },
     "execution_count": 9,
     "metadata": {},
     "output_type": "execute_result"
    }
   ],
   "source": [
    "peor_ejecucion = df_peor.index.values[0]\n",
    "df3 = pd.read_csv('Ejecuciones/' + str(peor_ejecucion) + 'output.csv')\n",
    "\n",
    "promedio = []\n",
    "mejor = []\n",
    "peor = []\n",
    "desviacion = []\n",
    "mediana = []\n",
    "gen = []\n",
    "\n",
    "\n",
    "for i in range(len(df3['generacion'].unique().tolist())):\n",
    "    mejor.append(df3.loc[df3['generacion'] == i].min().values[1])\n",
    "    promedio.append(df3.loc[df3['generacion'] == i].mean().values[1])\n",
    "    desviacion.append(df3.loc[df3['generacion'] == i].std().values[1])\n",
    "    mediana.append(df3.loc[df3['generacion'] == i].median().values[1])\n",
    "    peor.append(df3.loc[df3['generacion'] == i].max().values[1])\n",
    "    gen.append(i+1)\n",
    "\n",
    "data = {'Generación': gen,\\\n",
    "    'Mejor':mejor, \\\n",
    "    'Promedio':promedio, \\\n",
    "    'Mediana':mediana, \\\n",
    "    'Desviación Estándar':desviacion, \\\n",
    "    'Peor':peor}\n",
    "df3 = pd.DataFrame(data)\n",
    "df3.head()"
   ]
  },
  {
   "cell_type": "markdown",
   "metadata": {
    "slideshow": {
     "slide_type": "subslide"
    }
   },
   "source": [
    "### Gráfica de Convergencia"
   ]
  },
  {
   "cell_type": "code",
   "execution_count": 10,
   "metadata": {
    "slideshow": {
     "slide_type": "subslide"
    }
   },
   "outputs": [
    {
     "data": {
      "text/plain": [
       "<matplotlib.axes._subplots.AxesSubplot at 0x7f5c788280f0>"
      ]
     },
     "execution_count": 10,
     "metadata": {},
     "output_type": "execute_result"
    },
    {
     "data": {
      "image/png": "[encoded data removed]",
      "text/plain": [
       "<Figure size 720x360 with 1 Axes>"
      ]
     },
     "metadata": {
      "needs_background": "light"
     },
     "output_type": "display_data"
    }
   ],
   "source": [
    "df3.plot(x='Generación', y=['Mejor'], figsize=(10,5), grid=True)"
   ]
  },
  {
   "cell_type": "markdown",
   "metadata": {},
   "source": [
    "## Mediana Ejecución"
   ]
  },
  {
   "cell_type": "code",
   "execution_count": 11,
   "metadata": {},
   "outputs": [
    {
     "data": {
      "text/html": [
       "<div>\n",
       "<style scoped>\n",
       "    .dataframe tbody tr th:only-of-type {\n",
       "        vertical-align: middle;\n",
       "    }\n",
       "\n",
       "    .dataframe tbody tr th {\n",
       "        vertical-align: top;\n",
       "    }\n",
       "\n",
       "    .dataframe thead th {\n",
       "        text-align: right;\n",
       "    }\n",
       "</style>\n",
       "<table border=\"1\" class=\"dataframe\">\n",
       "  <thead>\n",
       "    <tr style=\"text-align: right;\">\n",
       "      <th></th>\n",
       "      <th>Mejor</th>\n",
       "      <th>Promedio</th>\n",
       "      <th>Mediana</th>\n",
       "      <th>Desviación Estándar</th>\n",
       "      <th>Peor</th>\n",
       "    </tr>\n",
       "    <tr>\n",
       "      <th>Número de Ejecución</th>\n",
       "      <th></th>\n",
       "      <th></th>\n",
       "      <th></th>\n",
       "      <th></th>\n",
       "      <th></th>\n",
       "    </tr>\n",
       "  </thead>\n",
       "  <tbody>\n",
       "    <tr>\n",
       "      <th>1</th>\n",
       "      <td>65469.30</td>\n",
       "      <td>895011812.72</td>\n",
       "      <td>1000000000.00</td>\n",
       "      <td>307288116.71</td>\n",
       "      <td>1000000000.00</td>\n",
       "    </tr>\n",
       "  </tbody>\n",
       "</table>\n",
       "</div>"
      ],
      "text/plain": [
       "                       Mejor     Promedio       Mediana  Desviación Estándar  \\\n",
       "Número de Ejecución                                                            \n",
       "1                   65469.30 895011812.72 1000000000.00         307288116.71   \n",
       "\n",
       "                             Peor  \n",
       "Número de Ejecución                \n",
       "1                   1000000000.00  "
      ]
     },
     "execution_count": 11,
     "metadata": {},
     "output_type": "execute_result"
    }
   ],
   "source": [
    "df_mediana = df.loc[df[\"Mediana\"] == df[\"Mediana\"].median()].head(1)\n",
    "df_mediana"
   ]
  },
  {
   "cell_type": "markdown",
   "metadata": {},
   "source": [
    "### Ejecución 1"
   ]
  },
  {
   "cell_type": "code",
   "execution_count": 12,
   "metadata": {
    "slideshow": {
     "slide_type": "subslide"
    }
   },
   "outputs": [
    {
     "data": {
      "text/html": [
       "<div>\n",
       "<style scoped>\n",
       "    .dataframe tbody tr th:only-of-type {\n",
       "        vertical-align: middle;\n",
       "    }\n",
       "\n",
       "    .dataframe tbody tr th {\n",
       "        vertical-align: top;\n",
       "    }\n",
       "\n",
       "    .dataframe thead th {\n",
       "        text-align: right;\n",
       "    }\n",
       "</style>\n",
       "<table border=\"1\" class=\"dataframe\">\n",
       "  <thead>\n",
       "    <tr style=\"text-align: right;\">\n",
       "      <th></th>\n",
       "      <th>Generación</th>\n",
       "      <th>Mejor</th>\n",
       "      <th>Promedio</th>\n",
       "      <th>Mediana</th>\n",
       "      <th>Desviación Estándar</th>\n",
       "      <th>Peor</th>\n",
       "    </tr>\n",
       "  </thead>\n",
       "  <tbody>\n",
       "    <tr>\n",
       "      <th>0</th>\n",
       "      <td>1</td>\n",
       "      <td>nan</td>\n",
       "      <td>nan</td>\n",
       "      <td>nan</td>\n",
       "      <td>nan</td>\n",
       "      <td>nan</td>\n",
       "    </tr>\n",
       "    <tr>\n",
       "      <th>1</th>\n",
       "      <td>2</td>\n",
       "      <td>287329.86</td>\n",
       "      <td>995001436.65</td>\n",
       "      <td>1000000000.00</td>\n",
       "      <td>70690360.83</td>\n",
       "      <td>1000000000.00</td>\n",
       "    </tr>\n",
       "    <tr>\n",
       "      <th>2</th>\n",
       "      <td>3</td>\n",
       "      <td>287329.86</td>\n",
       "      <td>995001436.65</td>\n",
       "      <td>1000000000.00</td>\n",
       "      <td>70690360.83</td>\n",
       "      <td>1000000000.00</td>\n",
       "    </tr>\n",
       "    <tr>\n",
       "      <th>3</th>\n",
       "      <td>4</td>\n",
       "      <td>287329.86</td>\n",
       "      <td>995001436.65</td>\n",
       "      <td>1000000000.00</td>\n",
       "      <td>70690360.83</td>\n",
       "      <td>1000000000.00</td>\n",
       "    </tr>\n",
       "    <tr>\n",
       "      <th>4</th>\n",
       "      <td>5</td>\n",
       "      <td>287329.86</td>\n",
       "      <td>995001436.65</td>\n",
       "      <td>1000000000.00</td>\n",
       "      <td>70690360.83</td>\n",
       "      <td>1000000000.00</td>\n",
       "    </tr>\n",
       "  </tbody>\n",
       "</table>\n",
       "</div>"
      ],
      "text/plain": [
       "   Generación     Mejor     Promedio       Mediana  Desviación Estándar  \\\n",
       "0           1       nan          nan           nan                  nan   \n",
       "1           2 287329.86 995001436.65 1000000000.00          70690360.83   \n",
       "2           3 287329.86 995001436.65 1000000000.00          70690360.83   \n",
       "3           4 287329.86 995001436.65 1000000000.00          70690360.83   \n",
       "4           5 287329.86 995001436.65 1000000000.00          70690360.83   \n",
       "\n",
       "           Peor  \n",
       "0           nan  \n",
       "1 1000000000.00  \n",
       "2 1000000000.00  \n",
       "3 1000000000.00  \n",
       "4 1000000000.00  "
      ]
     },
     "execution_count": 12,
     "metadata": {},
     "output_type": "execute_result"
    }
   ],
   "source": [
    "mediana_ejecucion = df_mediana.index.values[0]\n",
    "df4 = pd.read_csv('Ejecuciones/' + str(mediana_ejecucion) + 'output.csv')\n",
    "\n",
    "promedio = []\n",
    "mejor = []\n",
    "peor = []\n",
    "desviacion = []\n",
    "mediana = []\n",
    "gen = []\n",
    "\n",
    "\n",
    "for i in range(len(df4['generacion'].unique().tolist())):\n",
    "    mejor.append(df4.loc[df4['generacion'] == i].min().values[1])\n",
    "    promedio.append(df4.loc[df4['generacion'] == i].mean().values[1])\n",
    "    desviacion.append(df4.loc[df4['generacion'] == i].std().values[1])\n",
    "    mediana.append(df4.loc[df4['generacion'] == i].median().values[1])\n",
    "    peor.append(df4.loc[df4['generacion'] == i].max().values[1])\n",
    "    gen.append(i + 1)\n",
    "\n",
    "data = {'Generación': gen,\\\n",
    "    'Mejor':mejor, \\\n",
    "    'Promedio':promedio, \\\n",
    "    'Mediana':mediana, \\\n",
    "    'Desviación Estándar':desviacion, \\\n",
    "    'Peor':peor}\n",
    "df4 = pd.DataFrame(data)\n",
    "df4.head()"
   ]
  },
  {
   "cell_type": "markdown",
   "metadata": {
    "slideshow": {
     "slide_type": "subslide"
    }
   },
   "source": [
    "### Gráfica de Convergencia"
   ]
  },
  {
   "cell_type": "code",
   "execution_count": 13,
   "metadata": {
    "slideshow": {
     "slide_type": "subslide"
    }
   },
   "outputs": [
    {
     "data": {
      "text/plain": [
       "<matplotlib.axes._subplots.AxesSubplot at 0x7f5ca823f4a8>"
      ]
     },
     "execution_count": 13,
     "metadata": {},
     "output_type": "execute_result"
    },
    {
     "data": {
      "image/png": "[encoded data removed]",
      "text/plain": [
       "<Figure size 720x360 with 1 Axes>"
      ]
     },
     "metadata": {
      "needs_background": "light"
     },
     "output_type": "display_data"
    }
   ],
   "source": [
    "df4.plot(x='Generación', y=['Mejor'], figsize=(10,5), grid=True)"
   ]
  },
  {
   "cell_type": "markdown",
   "metadata": {
    "slideshow": {
     "slide_type": "slide"
    }
   },
   "source": [
    "## Comparación Gráficas de Convergencia"
   ]
  },
  {
   "cell_type": "code",
   "execution_count": 14,
   "metadata": {
    "slideshow": {
     "slide_type": "slide"
    }
   },
   "outputs": [
    {
     "data": {
      "image/png": "[encoded data removed]",
      "text/plain": [
       "<Figure size 720x360 with 1 Axes>"
      ]
     },
     "metadata": {
      "needs_background": "light"
     },
     "output_type": "display_data"
    }
   ],
   "source": [
    "fig, ax = plt.subplots(1, figsize=(10, 5))\n",
    "fig.suptitle('Comparación de las Tres Ejecuciones')\n",
    "ax.plot(df2['Generación'], df2['Mejor'], label=\"Mejor Aptitud\")\n",
    "ax.plot(df4['Generación'], df4['Mejor'], label=\"Mediana Aptitud\")\n",
    "plt.grid(b=True, which='major', color='#666666', linestyle='-')\n",
    "plt.legend(bbox_to_anchor=(1.05, 1), loc=2, borderaxespad=0.)\n",
    "plt.show()"
   ]
  },
  {
   "cell_type": "code",
   "execution_count": null,
   "metadata": {},
   "outputs": [],
   "source": []
  }
 ],
 "metadata": {
  "kernelspec": {
   "display_name": "Python 3",
   "language": "python",
   "name": "python3"
  },
  "language_info": {
   "codemirror_mode": {
    "name": "ipython",
    "version": 3
   },
   "file_extension": ".py",
   "mimetype": "text/x-python",
   "name": "python",
   "nbconvert_exporter": "python",
   "pygments_lexer": "ipython3",
   "version": "3.7.1"
  }
 },
 "nbformat": 4,
 "nbformat_minor": 2
}
